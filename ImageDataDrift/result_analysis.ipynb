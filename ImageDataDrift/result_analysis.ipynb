{
 "cells": [
  {
   "cell_type": "markdown",
   "metadata": {},
   "source": [
    "The aim of this notebook is computing detection accuracy and false-positive rate for both development and production data. \n",
    "Metrics on both of theme were already been applied and the results stored in csv files. So we are going to read them, computing detection accuracy and print it on a text file."
   ]
  },
  {
   "cell_type": "code",
   "execution_count": null,
   "metadata": {},
   "outputs": [],
   "source": [
    "import sys, os\n",
    "sys.path.append(os.path.abspath('Utils'))\n",
    "sys.path.append(os.path.abspath('data'))\n",
    "sys.path.append(os.path.abspath('thresholds_and_results'))\n",
    "\n",
    "\n",
    "import pandas as pd\n",
    "from utils_detectAcc import print_detection_accuracy, read_threshold\n"
   ]
  },
  {
   "cell_type": "code",
   "execution_count": null,
   "metadata": {},
   "outputs": [],
   "source": [
    "# params\n",
    "seed_split = 1\n",
    "seed_drift = 10\n",
    "seed_metrics = 100\n",
    "seed_list = [seed_split, seed_drift, seed_metrics]"
   ]
  },
  {
   "cell_type": "code",
   "execution_count": null,
   "metadata": {},
   "outputs": [],
   "source": [
    "# number of dimensions for dimensionality reduction\n",
    "k=6"
   ]
  },
  {
   "cell_type": "code",
   "execution_count": null,
   "metadata": {},
   "outputs": [],
   "source": [
    "# dataframes from csv result files\n",
    "df = pd.read_csv('thresholds_and_results/2dim/devResults_2d.csv')\n",
    "df_prod = pd.read_csv('thresholds_and_results/2dim/prodResults_2d.csv')\n",
    "df_6dim = pd.read_csv('thresholds_and_results/6dim/devResults_6d.csv')\n",
    "df_prod_6dim = pd.read_csv('thresholds_and_results/6dim/prodResults_6d.csv')"
   ]
  },
  {
   "cell_type": "markdown",
   "metadata": {},
   "source": [
    "Thresholds"
   ]
  },
  {
   "cell_type": "code",
   "execution_count": null,
   "metadata": {},
   "outputs": [],
   "source": [
    "# read thresholds\n",
    "thresholds_2d = read_threshold('thresholds_and_results/2dim/thresholds_2d')\n",
    "thresholds_6d = read_threshold('thresholds_and_results/6dim/thresholds_6d')\n"
   ]
  },
  {
   "cell_type": "markdown",
   "metadata": {},
   "source": [
    "Compute detection accuracy"
   ]
  },
  {
   "cell_type": "code",
   "execution_count": null,
   "metadata": {},
   "outputs": [],
   "source": [
    "# Detection accuracy in production in 'normal' and 'drifted' day\n",
    "drift = 'production_drift'\n",
    "val = 'normal'\n",
    "output_file = 'thresholds_and_results/6dim/production_accuracy_6d'\n",
    "print_detection_accuracy(df_prod_6dim, thresholds_6d, drift, val, seed_list, output_file , k)"
   ]
  },
  {
   "cell_type": "code",
   "execution_count": null,
   "metadata": {},
   "outputs": [],
   "source": [
    "# Detection accuracy in development for Gaussian simulated drifts with validation set as reference\n",
    "drift = 'Gaussian'\n",
    "val = 'val'\n",
    "output_file = 'thresholds_and_results/6dim/gaussian_accuracy_6d'\n",
    "print_detection_accuracy(df_6dim, thresholds_6d, drift, val, seed_list, output_file, k)"
   ]
  },
  {
   "cell_type": "code",
   "execution_count": null,
   "metadata": {},
   "outputs": [],
   "source": [
    "# Detection accuracy in development for intensity simulated drifts with validation set as reference\n",
    "drift = 'intensity'\n",
    "val = 'val'\n",
    "output_file = 'thresholds_and_results/6dim/intensity_accuracy_6d'\n",
    "print_detection_accuracy(df_6dim, thresholds_6d, drift, val, seed_list, output_file , k)"
   ]
  }
 ],
 "metadata": {
  "kernelspec": {
   "display_name": "stage",
   "language": "python",
   "name": "stage"
  },
  "language_info": {
   "codemirror_mode": {
    "name": "ipython",
    "version": 3
   },
   "file_extension": ".py",
   "mimetype": "text/x-python",
   "name": "python",
   "nbconvert_exporter": "python",
   "pygments_lexer": "ipython3",
   "version": "3.9.18"
  },
  "orig_nbformat": 4
 },
 "nbformat": 4,
 "nbformat_minor": 2
}
