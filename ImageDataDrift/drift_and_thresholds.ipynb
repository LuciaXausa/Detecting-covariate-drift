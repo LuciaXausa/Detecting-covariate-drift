{
 "cells": [
  {
   "cell_type": "markdown",
   "metadata": {},
   "source": [
    "The aim of this notebook is twofold: \n",
    " - simulate dirfts on images in order to generate synthethic drifted data. We are going to timulate Gaussian noise and change of intensity of greys;\n",
    " - find thresholds for metrics, by applying them on permutations of the train dataset"
   ]
  },
  {
   "cell_type": "code",
   "execution_count": null,
   "metadata": {},
   "outputs": [],
   "source": [
    "import sys, os\n",
    "sys.path.append(os.path.abspath('Utils'))\n",
    "sys.path.append(os.path.abspath('data'))\n",
    "sys.path.append(os.path.abspath('thresholds_and_results'))\n",
    "\n",
    "\n",
    "\n",
    "from utils_driftSimulating import  only_image_folder, create_black_folder, create_gaussian_folder, create_intensity_folder\n",
    "from utils_thresholds import thresholds_PCA_images, thresholds_UMAP_images, thresholds_AUTOENCODER_U_images, thresholds_AUTOENCODER_T_images, thresholds_None\n",
    "from utils_resNet import init_resnet, df_from_folder\n"
   ]
  },
  {
   "cell_type": "markdown",
   "metadata": {},
   "source": [
    "### Settings"
   ]
  },
  {
   "cell_type": "markdown",
   "metadata": {},
   "source": [
    " Eliminate Zone.Identifier"
   ]
  },
  {
   "cell_type": "code",
   "execution_count": null,
   "metadata": {},
   "outputs": [],
   "source": [
    "starting_path = 'data/original_data/training_images/'\n",
    "# only_image_folder(starting_path)"
   ]
  },
  {
   "cell_type": "markdown",
   "metadata": {},
   "source": [
    "Applying central black circle and saving images in the \"black\" folder"
   ]
  },
  {
   "cell_type": "code",
   "execution_count": null,
   "metadata": {},
   "outputs": [],
   "source": [
    "black_path = 'data/synthetic_data/black/'\n",
    "# create_black_folder(starting_path, black_path)"
   ]
  },
  {
   "cell_type": "markdown",
   "metadata": {},
   "source": [
    "### Simulate drift and save a folder for each drift type"
   ]
  },
  {
   "cell_type": "code",
   "execution_count": null,
   "metadata": {},
   "outputs": [],
   "source": [
    "intensity_path = 'data/synthetic_data/drift_intensity/'\n",
    "# create_intensity_folder(starting_path, intensity_path, shiftValue = 40)\n",
    "gaussian_path = 'data/synthetic_data/drift_gaussian_1/'\n",
    "# create_gaussian_folder(starting_path, gaussian_path, sigma=1)\n",
    "gaussian_path = 'data/synthetic_data/drift_gaussian_10/'\n",
    "# create_gaussian_folder(starting_path, gaussian_path, sigma=10)\n",
    "gaussian_path = 'data/synthetic_data/drift_gaussian_100/'\n",
    "# create_gaussian_folder(starting_path, gaussian_path, sigma=100)"
   ]
  },
  {
   "cell_type": "markdown",
   "metadata": {},
   "source": [
    "### Data preprocessing"
   ]
  },
  {
   "cell_type": "markdown",
   "metadata": {},
   "source": [
    "Create dataframe from black folder"
   ]
  },
  {
   "cell_type": "code",
   "execution_count": null,
   "metadata": {},
   "outputs": [],
   "source": [
    "# set seeds\n",
    "seed_split = 1\n",
    "seed_drift = 10\n",
    "seed_metrics = 100\n",
    "seeds = [seed_split, seed_drift, seed_metrics]\n"
   ]
  },
  {
   "cell_type": "code",
   "execution_count": null,
   "metadata": {},
   "outputs": [],
   "source": [
    "# Define configs\n",
    "k=6\n",
    "fileName='thresholds_and_results/6dim/thresholds_6d'"
   ]
  },
  {
   "cell_type": "code",
   "execution_count": null,
   "metadata": {},
   "outputs": [],
   "source": [
    "# Model initialization: a resnet18 will be used to preprocess the images before dimensionality reduction process\n",
    "model = init_resnet(seed_split)"
   ]
  },
  {
   "cell_type": "code",
   "execution_count": null,
   "metadata": {},
   "outputs": [],
   "source": [
    "# Preprocess images by:\n",
    "# - applying a black mask over them\n",
    "# - applying the resnet to do feature selection on each image (to not use directly raw image pixels for the governance process)\n",
    "# - storing an array with shape (1,512) for each image in a dataframe to be used in the governance process (a df was an input also for the process applied on tabular data)\n",
    "black_df = df_from_folder(black_path, model)"
   ]
  },
  {
   "cell_type": "markdown",
   "metadata": {},
   "source": [
    "### Thresholds definition"
   ]
  },
  {
   "cell_type": "markdown",
   "metadata": {},
   "source": [
    "We are going to apply metrics for drift detection on a new dataset and we would like to select which metrics are able to detect drift on it. In order to interpret the values given by such metrics we need some threshold values, so that if the value returned from a metric is extremer than the corresponding threshold a drift is detected, otherwise the drift is not detected. Such thresholds are not global but depend on each dataset, so for each dataset we are going to find them. We propose as threshold the 5-th percentile of the metrics' results, applied on permutation of batches of the considered datase."
   ]
  },
  {
   "cell_type": "markdown",
   "metadata": {},
   "source": [
    "With no dim red"
   ]
  },
  {
   "cell_type": "code",
   "execution_count": null,
   "metadata": {},
   "outputs": [],
   "source": [
    "thresholds_None(seeds, black_df, fileName, k)"
   ]
  },
  {
   "cell_type": "markdown",
   "metadata": {},
   "source": [
    "With Dimensionality reduction techniques"
   ]
  },
  {
   "cell_type": "markdown",
   "metadata": {},
   "source": [
    "With PCA"
   ]
  },
  {
   "cell_type": "code",
   "execution_count": null,
   "metadata": {},
   "outputs": [],
   "source": [
    "thresholds_PCA_images(seeds, black_df, fileName,k)"
   ]
  },
  {
   "cell_type": "markdown",
   "metadata": {},
   "source": [
    "With UMAP"
   ]
  },
  {
   "cell_type": "code",
   "execution_count": null,
   "metadata": {},
   "outputs": [],
   "source": [
    "thresholds_UMAP_images(seeds, black_df, fileName, k)"
   ]
  },
  {
   "cell_type": "markdown",
   "metadata": {},
   "source": [
    "With U_AUTOENCODER (untrained)"
   ]
  },
  {
   "cell_type": "code",
   "execution_count": null,
   "metadata": {},
   "outputs": [],
   "source": [
    "thresholds_AUTOENCODER_U_images(seeds, black_df, fileName,k)"
   ]
  },
  {
   "cell_type": "markdown",
   "metadata": {},
   "source": [
    "With T_AUTOENCODER (trained)"
   ]
  },
  {
   "cell_type": "code",
   "execution_count": null,
   "metadata": {},
   "outputs": [],
   "source": [
    "thresholds_AUTOENCODER_T_images(seeds, black_df, fileName,k)"
   ]
  }
 ],
 "metadata": {
  "kernelspec": {
   "display_name": "Python 3",
   "language": "python",
   "name": "python3"
  },
  "language_info": {
   "codemirror_mode": {
    "name": "ipython",
    "version": 3
   },
   "file_extension": ".py",
   "mimetype": "text/x-python",
   "name": "python",
   "nbconvert_exporter": "python",
   "pygments_lexer": "ipython3",
   "version": "3.10.7"
  },
  "orig_nbformat": 4
 },
 "nbformat": 4,
 "nbformat_minor": 2
}
