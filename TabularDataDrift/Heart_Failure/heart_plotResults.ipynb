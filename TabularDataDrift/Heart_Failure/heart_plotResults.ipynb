{
 "cells": [
  {
   "cell_type": "code",
   "execution_count": null,
   "metadata": {},
   "outputs": [],
   "source": [
    "import pandas as pd\n",
    "import sys, os\n",
    "sys.path.append(os.path.abspath('../Utils'))\n",
    "from utils_plottingGraph import test_drift_heatmap\n",
    "from utils_plottingGraph import test_boxplot\n",
    "from utils_plottingGraph import test_dimRed_plot\n",
    "from utils_plottingGraph import performance_drift_heatmap\n",
    "from utils_plottingGraph import print_detection_accuracy"
   ]
  },
  {
   "cell_type": "code",
   "execution_count": null,
   "metadata": {},
   "outputs": [],
   "source": [
    "df = pd.read_csv(\"extended.csv\")\n",
    "# df = pd.read_csv(\"testResults_heart.csv\")\n",
    "\n",
    "seed_list = [1, 10, 100]"
   ]
  },
  {
   "cell_type": "markdown",
   "metadata": {},
   "source": [
    "# HEATMAP FOR TESTS"
   ]
  },
  {
   "cell_type": "code",
   "execution_count": null,
   "metadata": {},
   "outputs": [],
   "source": [
    "test_drift_heatmap(df, drift='Linear',params=['a', 'b'], dim_red='U_AUTOENCODER', test='ttest', seed_list = seed_list)"
   ]
  },
  {
   "cell_type": "markdown",
   "metadata": {},
   "source": [
    "# BOXPLOT for TESTS"
   ]
  },
  {
   "cell_type": "code",
   "execution_count": null,
   "metadata": {},
   "outputs": [],
   "source": [
    "test_boxplot(df, dim_red='UMAP', test='MMD', varying_seed = 'seed_metrics')            #metti p-value incrociato, criterio per vedere che c'è stato drift, da p-value"
   ]
  },
  {
   "cell_type": "markdown",
   "metadata": {},
   "source": [
    "# GRAPH TEST-PARAMS"
   ]
  },
  {
   "cell_type": "code",
   "execution_count": null,
   "metadata": {},
   "outputs": [],
   "source": [
    "# xlim = (-50,50)\n",
    "xlim = (0,50)\n",
    "\n",
    "ylim=(0,1)"
   ]
  },
  {
   "cell_type": "code",
   "execution_count": null,
   "metadata": {},
   "outputs": [],
   "source": [
    "# remember for Linear the transformation is: aX+b\n",
    "test_dimRed_plot(df, drift='Linear', fixed_param='b', fixed_value=0.0, test='ks', changing_param='a', seed_list = seed_list,xlim=xlim, ylim=ylim) "
   ]
  },
  {
   "cell_type": "markdown",
   "metadata": {},
   "source": [
    "# HEATMAP PERFORMANCE"
   ]
  },
  {
   "cell_type": "code",
   "execution_count": null,
   "metadata": {},
   "outputs": [],
   "source": [
    "performance_drift_heatmap(df, drift='Gaussian', params=['mean', 'sigma'], seed_list = seed_list) #prova con un seed, prova a vedere heatmap con differenza "
   ]
  },
  {
   "cell_type": "markdown",
   "metadata": {},
   "source": [
    "# DETECTION ACCURACY"
   ]
  },
  {
   "cell_type": "code",
   "execution_count": null,
   "metadata": {},
   "outputs": [],
   "source": [
    "thresholdsGaussian = {\n",
    "    'NO_dim_red' : [0.57, 0.8, 0.08, 0.034],\n",
    "    'PCA': [0.11, 0.08, 0.38, 0.04],               # numerical thresholds\n",
    "                'UMAP': [0.03, 0.07, 0.15, 0.08],\n",
    "                'U_AUTOENCODER': [0.05, 0.12, 0.06, 0.004],\n",
    "                'T_AUTOENCODER': [0.02, 0.05, 0.07, 0.01]}  \n",
    "             # prova a vedere con training set o permutation su anche quello\n",
    "T_permuataions_JustOnTest = [0.12, 0.21, 0.11, 0.02]\n",
    "thresholds_changeT = {\n",
    "    'NO_dim_red' : [0.13, 0.23, 0.14, 0.06],\n",
    "    'PCA': [0.10, 0.14, 0.1, 0.06],               # numerical thresholds\n",
    "                'UMAP': [0.15, 0.24, 0.17, 0.2],\n",
    "                'U_AUTOENCODER': [0.05, 0.07, 0.07, 0.004],\n",
    "                'T_AUTOENCODER': T_permuataions_JustOnTest}\n",
    "# dovrestsi mettere anche NO_dim_red\n",
    "\n",
    "\n",
    "\n",
    "drift = 'Gaussian'\n",
    "seed_metrics = 100"
   ]
  },
  {
   "cell_type": "code",
   "execution_count": null,
   "metadata": {},
   "outputs": [],
   "source": [
    "print_detection_accuracy(df, thresholds=thresholds_changeT, drift='Gaussian', seed_list = seed_list)"
   ]
  }
 ],
 "metadata": {
  "kernelspec": {
   "display_name": "Python 3",
   "language": "python",
   "name": "python3"
  },
  "language_info": {
   "codemirror_mode": {
    "name": "ipython",
    "version": 3
   },
   "file_extension": ".py",
   "mimetype": "text/x-python",
   "name": "python",
   "nbconvert_exporter": "python",
   "pygments_lexer": "ipython3",
   "version": "3.10.7"
  },
  "orig_nbformat": 4
 },
 "nbformat": 4,
 "nbformat_minor": 2
}
