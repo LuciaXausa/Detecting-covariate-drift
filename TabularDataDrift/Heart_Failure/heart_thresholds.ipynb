{
 "cells": [
  {
   "cell_type": "markdown",
   "metadata": {},
   "source": [
    "# SETTING"
   ]
  },
  {
   "cell_type": "code",
   "execution_count": null,
   "metadata": {},
   "outputs": [],
   "source": [
    "import pandas as pd\n",
    "\n",
    "import sys, os\n",
    "sys.path.append(os.path.abspath('../Utils'))\n",
    "\n",
    "from utils_thresholds import thresholds_None\n",
    "from utils_thresholds import thresholds_PCA\n",
    "from utils_thresholds import thresholds_UMAP\n",
    "from utils_thresholds import thresholds_AUTOENCODER_U\n",
    "from utils_thresholds import thresholds_AUTOENCODER_T\n",
    "from utils_thresholds import thresholds_AUTOENCODER_T_on_test"
   ]
  },
  {
   "cell_type": "markdown",
   "metadata": {},
   "source": [
    "# DATA"
   ]
  },
  {
   "cell_type": "code",
   "execution_count": null,
   "metadata": {},
   "outputs": [],
   "source": [
    "# is the only numerical dataset\n",
    "df = pd.read_csv('heart_failure_clinical_records_dataset.csv',encoding='UTF-8')\n",
    "colNum = ['age','creatinine_phosphokinase','ejection_fraction','platelets','serum_creatinine','serum_sodium']    \n",
    "df = df[colNum]\n",
    "\n",
    "# set seed\n",
    "feature=['serum_creatinine', 'ejection_fraction']\n",
    "\n",
    "fileName = 'HEART_thresholds.txt'\n",
    "seed = 100        #seeds for tests and dim_red"
   ]
  },
  {
   "cell_type": "markdown",
   "metadata": {},
   "source": [
    "# ITERATE ON MEASURES on input dataset\n",
    "\n",
    "\n"
   ]
  },
  {
   "cell_type": "code",
   "execution_count": null,
   "metadata": {},
   "outputs": [],
   "source": [
    "thresholds_None(seed, df, feature, fileName)"
   ]
  },
  {
   "cell_type": "markdown",
   "metadata": {},
   "source": [
    "# ITERATE MEASURES after PCA"
   ]
  },
  {
   "cell_type": "code",
   "execution_count": null,
   "metadata": {},
   "outputs": [],
   "source": [
    "thresholds_PCA(seed, df, feature, fileName)"
   ]
  },
  {
   "cell_type": "markdown",
   "metadata": {},
   "source": [
    "# ITERATE MEASURES after UMAP"
   ]
  },
  {
   "cell_type": "code",
   "execution_count": null,
   "metadata": {},
   "outputs": [],
   "source": [
    "thresholds_UMAP(seed, df, feature, fileName)"
   ]
  },
  {
   "cell_type": "markdown",
   "metadata": {},
   "source": [
    "# UNTRAINED AUTOENCODER"
   ]
  },
  {
   "cell_type": "code",
   "execution_count": null,
   "metadata": {},
   "outputs": [],
   "source": [
    "thresholds_AUTOENCODER_U(seed, df, feature, fileName)"
   ]
  },
  {
   "cell_type": "markdown",
   "metadata": {},
   "source": [
    "# TRAINED AUTOENCODER"
   ]
  },
  {
   "cell_type": "code",
   "execution_count": null,
   "metadata": {},
   "outputs": [],
   "source": [
    "thresholds_AUTOENCODER_T_on_test(seed, df, feature, fileName)        # we choose to permute only on dataset without training\n",
    "# thresholds_AUTOENCODER_T(seed, df, feature, fileName)"
   ]
  }
 ],
 "metadata": {
  "kernelspec": {
   "display_name": "stage",
   "language": "python",
   "name": "stage"
  },
  "language_info": {
   "codemirror_mode": {
    "name": "ipython",
    "version": 3
   },
   "file_extension": ".py",
   "mimetype": "text/x-python",
   "name": "python",
   "nbconvert_exporter": "python",
   "pygments_lexer": "ipython3",
   "version": "3.9.18"
  },
  "orig_nbformat": 4
 },
 "nbformat": 4,
 "nbformat_minor": 2
}
