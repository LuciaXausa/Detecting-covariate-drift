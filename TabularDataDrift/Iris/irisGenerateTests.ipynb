{
 "cells": [
  {
   "cell_type": "markdown",
   "metadata": {},
   "source": [
    "# SETTING"
   ]
  },
  {
   "cell_type": "code",
   "execution_count": null,
   "metadata": {},
   "outputs": [],
   "source": [
    "import pandas as pd\n",
    "import sys, os\n",
    "sys.path.append(os.path.abspath('../Utils'))\n",
    "\n",
    "from utils_generate import generate_gaussian\n",
    "from utils_generate import generate_linear\n"
   ]
  },
  {
   "cell_type": "code",
   "execution_count": null,
   "metadata": {},
   "outputs": [],
   "source": [
    "resultFile = 'extended.csv'"
   ]
  },
  {
   "cell_type": "markdown",
   "metadata": {},
   "source": [
    "# DATASET"
   ]
  },
  {
   "cell_type": "code",
   "execution_count": null,
   "metadata": {},
   "outputs": [],
   "source": [
    "# is the only numerical dataset\n",
    "df = pd.read_csv('irisData.csv',encoding='UTF-8')\n",
    "DATASET = 'IRIS'\n",
    "# convert classes into numerical\n",
    "df['CLASS'] = pd.factorize(df['CLASS'])[0]          #class goes from 0 to 2\n",
    "\n",
    "labelCol = 'CLASS'\n",
    "\n",
    "feature = ['petal_length', 'petal_width']\n"
   ]
  },
  {
   "cell_type": "code",
   "execution_count": null,
   "metadata": {},
   "outputs": [],
   "source": [
    "seed_values = [2, 3, 4, 5]"
   ]
  },
  {
   "cell_type": "code",
   "execution_count": null,
   "metadata": {},
   "outputs": [],
   "source": [
    "seed_list = [1, 10, 100]\n",
    "# generate_gaussian(df, labelCol, DATASET, feature, resultFile, seed_list)\n",
    "generate_linear(df, labelCol, DATASET, feature, resultFile, seed_list)"
   ]
  },
  {
   "cell_type": "code",
   "execution_count": null,
   "metadata": {},
   "outputs": [],
   "source": [
    "for i in seed_values:\n",
    "    seed_list = [i, 10, 100]\n",
    "    generate_gaussian(df, labelCol, DATASET, feature, resultFile, seed_list)\n",
    "    # generate_linear(df, labelCol, DATASET, feature, resultFile, seed_list)"
   ]
  }
 ],
 "metadata": {
  "kernelspec": {
   "display_name": "stage",
   "language": "python",
   "name": "stage"
  },
  "language_info": {
   "codemirror_mode": {
    "name": "ipython",
    "version": 3
   },
   "file_extension": ".py",
   "mimetype": "text/x-python",
   "name": "python",
   "nbconvert_exporter": "python",
   "pygments_lexer": "ipython3",
   "version": "3.9.18"
  },
  "orig_nbformat": 4
 },
 "nbformat": 4,
 "nbformat_minor": 2
}
