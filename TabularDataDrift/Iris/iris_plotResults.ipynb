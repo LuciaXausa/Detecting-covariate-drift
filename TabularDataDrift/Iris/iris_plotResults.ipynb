{
 "cells": [
  {
   "cell_type": "code",
   "execution_count": null,
   "metadata": {},
   "outputs": [],
   "source": [
    "import pandas as pd\n",
    "import sys, os\n",
    "sys.path.append(os.path.abspath('../Utils'))\n",
    "from utils_plottingGraph import test_drift_heatmap\n",
    "from utils_plottingGraph import test_boxplot\n",
    "from utils_plottingGraph import test_dimRed_plot\n",
    "from utils_plottingGraph import performance_drift_heatmap\n",
    "from utils_plottingGraph import print_detection_accuracy"
   ]
  },
  {
   "cell_type": "code",
   "execution_count": null,
   "metadata": {},
   "outputs": [],
   "source": [
    "df = pd.read_csv('extended.csv')\n",
    "seed_list = [1, 10, 100]"
   ]
  },
  {
   "cell_type": "markdown",
   "metadata": {},
   "source": [
    "# HEATMAP FOR TESTS"
   ]
  },
  {
   "cell_type": "code",
   "execution_count": null,
   "metadata": {},
   "outputs": [],
   "source": [
    "test_drift_heatmap(df, drift='Gaussian',params=['mean', 'sigma'], dim_red='U_AUTOENCODER', test='MMD', seed_list = [1, 10, 100])"
   ]
  },
  {
   "cell_type": "markdown",
   "metadata": {},
   "source": [
    "# BOXPLOT for TESTS"
   ]
  },
  {
   "cell_type": "code",
   "execution_count": null,
   "metadata": {},
   "outputs": [],
   "source": [
    "test_boxplot(df, dim_red='U_AUTOENCODER', test='MMD', varying_seed = 'seed_drift')          #metti p-value incrociato, criterio per vedere che c'è stato drift, da p-value"
   ]
  },
  {
   "cell_type": "markdown",
   "metadata": {},
   "source": [
    "# GRAPH TEST-PARAMS"
   ]
  },
  {
   "cell_type": "code",
   "execution_count": null,
   "metadata": {},
   "outputs": [],
   "source": [
    "xlim=(0,100)\n",
    "ylim=(0,2)"
   ]
  },
  {
   "cell_type": "code",
   "execution_count": null,
   "metadata": {},
   "outputs": [],
   "source": [
    "# remember for Linear the transformation is: aX+b\n",
    "test_dimRed_plot(df, drift='Gaussian', fixed_param='mean', fixed_value=0.0, test='MMD', changing_param='sigma', seed_list = seed_list,xlim=xlim, ylim=ylim) "
   ]
  },
  {
   "cell_type": "markdown",
   "metadata": {},
   "source": [
    "# HEATMAP PERFORMANCE"
   ]
  },
  {
   "cell_type": "code",
   "execution_count": null,
   "metadata": {},
   "outputs": [],
   "source": [
    "performance_drift_heatmap(df, drift='Gaussian', params=['mean', 'sigma'], seed_list=[1,10,101]) #prova con un seed, prova a vedere heatmap con differenza "
   ]
  },
  {
   "cell_type": "markdown",
   "metadata": {},
   "source": [
    "# DETECTION ACCURACY"
   ]
  },
  {
   "cell_type": "code",
   "execution_count": null,
   "metadata": {},
   "outputs": [],
   "source": [
    "T_permuataions_JustOnTest = [0.008, 0.06, 0.2, 0.08]\n",
    "thresholds = {\n",
    "    'NO_dim_red' : [0.13, 0.23, 0.14, 0.06],\n",
    "    'PCA': [0.10, 0.14, 0.1, 0.06],               # numerical thresholds\n",
    "                'UMAP': [0.15, 0.24, 0.17, 0.2],\n",
    "                'U_AUTOENCODER': [0.05, 0.07, 0.07, 0.004],\n",
    "                'T_AUTOENCODER': T_permuataions_JustOnTest}\n",
    "# dovrestsi mettere anche NO_dim_red\n",
    "drift = 'Gaussian'"
   ]
  },
  {
   "cell_type": "code",
   "execution_count": null,
   "metadata": {},
   "outputs": [],
   "source": [
    "print_detection_accuracy(df, thresholds, drift, seed_list = [1, 10, 100])"
   ]
  }
 ],
 "metadata": {
  "kernelspec": {
   "display_name": "Python 3",
   "language": "python",
   "name": "python3"
  },
  "language_info": {
   "codemirror_mode": {
    "name": "ipython",
    "version": 3
   },
   "file_extension": ".py",
   "mimetype": "text/x-python",
   "name": "python",
   "nbconvert_exporter": "python",
   "pygments_lexer": "ipython3",
   "version": "3.10.7"
  },
  "orig_nbformat": 4
 },
 "nbformat": 4,
 "nbformat_minor": 2
}
